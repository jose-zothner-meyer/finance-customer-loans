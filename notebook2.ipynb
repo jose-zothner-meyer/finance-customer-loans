{
 "cells": [
  {
   "cell_type": "code",
   "execution_count": 1,
   "metadata": {},
   "outputs": [
    {
     "ename": "ModuleNotFoundError",
     "evalue": "No module named 'plotly'",
     "output_type": "error",
     "traceback": [
      "\u001b[0;31m---------------------------------------------------------------------------\u001b[0m",
      "\u001b[0;31mModuleNotFoundError\u001b[0m                       Traceback (most recent call last)",
      "Cell \u001b[0;32mIn[1], line 3\u001b[0m\n\u001b[1;32m      1\u001b[0m \u001b[38;5;28;01mimport\u001b[39;00m \u001b[38;5;21;01mpandas\u001b[39;00m \u001b[38;5;28;01mas\u001b[39;00m \u001b[38;5;21;01mpd\u001b[39;00m\n\u001b[1;32m      2\u001b[0m \u001b[38;5;28;01mfrom\u001b[39;00m \u001b[38;5;21;01mdataframetransform\u001b[39;00m \u001b[38;5;28;01mimport\u001b[39;00m DataFrameTransform\n\u001b[0;32m----> 3\u001b[0m \u001b[38;5;28;01mfrom\u001b[39;00m \u001b[38;5;21;01mplotter\u001b[39;00m \u001b[38;5;28;01mimport\u001b[39;00m Plotter\n\u001b[1;32m      5\u001b[0m \u001b[38;5;66;03m# Load your dataset\u001b[39;00m\n\u001b[1;32m      6\u001b[0m df \u001b[38;5;241m=\u001b[39m pd\u001b[38;5;241m.\u001b[39mread_csv(loan_payments\u001b[38;5;241m.\u001b[39mcsv)\n",
      "File \u001b[0;32m~/Documents/AiCore/projects/EDA/finance-customer-loans/plotter.py:1\u001b[0m\n\u001b[0;32m----> 1\u001b[0m \u001b[38;5;28;01mimport\u001b[39;00m \u001b[38;5;21;01mplotly\u001b[39;00m\u001b[38;5;21;01m.\u001b[39;00m\u001b[38;5;21;01mgraph_objects\u001b[39;00m \u001b[38;5;28;01mas\u001b[39;00m \u001b[38;5;21;01mgo\u001b[39;00m\n\u001b[1;32m      3\u001b[0m \u001b[38;5;28;01mclass\u001b[39;00m \u001b[38;5;21;01mPlotter\u001b[39;00m:\n\u001b[1;32m      4\u001b[0m     \u001b[38;5;28;01mdef\u001b[39;00m \u001b[38;5;21m__init__\u001b[39m(\u001b[38;5;28mself\u001b[39m, df):\n",
      "\u001b[0;31mModuleNotFoundError\u001b[0m: No module named 'plotly'"
     ]
    }
   ],
   "source": [
    "import pandas as pd\n",
    "from dataframetransform import DataFrameTransform\n",
    "from plotter import Plotter\n",
    "\n",
    "# Load your dataset\n",
    "df = pd.read_csv(loan_payments.csv)\n",
    "\n",
    "# Instantiate the DataFrameTransform class\n",
    "transformer = DataFrameTransform(df)\n",
    "\n",
    "# Step 2: Check for NULL values\n",
    "null_info_before = transformer.check_nulls()\n",
    "print(\"NULL values before imputation:\")\n",
    "print(null_info_before)\n",
    "\n",
    "# Step 2: Drop columns with more than 50% NULLs\n",
    "df_cleaned = transformer.drop_columns_with_nulls(threshold=50.0)\n",
    "\n",
    "# Step 3: Impute missing values\n",
    "df_imputed = transformer.impute_missing_values()\n",
    "\n",
    "# Step 4: Check for NULL values again\n",
    "null_info_after = transformer.check_nulls()\n",
    "print(\"NULL values after imputation:\")\n",
    "print(null_info_after)\n",
    "\n",
    "# Step 4: Visualize NULL value removal using Plotly\n",
    "plotter = Plotter(df)\n",
    "plotter.plot_null_values(null_info_before, df_imputed)\n",
    "\n",
    "# Step 5: Save cleaned DataFrame\n",
    "cleaned_file_path = 'cleaned_loan_payments.csv'\n",
    "transformer.save_cleaned_data(cleaned_file_path)\n"
   ]
  }
 ],
 "metadata": {
  "kernelspec": {
   "display_name": "finance_loans",
   "language": "python",
   "name": "python3"
  },
  "language_info": {
   "codemirror_mode": {
    "name": "ipython",
    "version": 3
   },
   "file_extension": ".py",
   "mimetype": "text/x-python",
   "name": "python",
   "nbconvert_exporter": "python",
   "pygments_lexer": "ipython3",
   "version": "3.8.20"
  }
 },
 "nbformat": 4,
 "nbformat_minor": 2
}
