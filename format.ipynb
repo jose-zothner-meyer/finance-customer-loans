{
 "cells": [
  {
   "cell_type": "markdown",
   "metadata": {},
   "source": [
    "# Loan Portfolio Data Cleaning and Transformation\n",
    "\n",
    "In this notebook, we will focus on cleaning and transforming the loan portfolio data.\n",
    "We will ensure that all columns are in the correct format, convert certain columns to categorical types, and handle missing values.\n",
    "This is a critical step before proceeding with exploratory data analysis (EDA) and querying the data.\n",
    "\n",
    "The steps we'll follow:\n",
    "1. Load the dataset.\n",
    "2. Apply necessary transformations (convert dates, clean columns, handle missing values).\n",
    "3. Prepare the data for further analysis."
   ]
  },
  {
   "cell_type": "markdown",
   "metadata": {},
   "source": [
    "## Step 1: Load the Dataset\n",
    "\n",
    "We'll begin by loading the loan portfolio dataset into a Pandas DataFrame to inspect the data structure.\n"
   ]
  },
  {
   "cell_type": "code",
   "execution_count": null,
   "metadata": {},
   "outputs": [],
   "source": [
    "import pandas as pd\n",
    "\n",
    "# Load the dataset from the CSV file\n",
    "df = pd.read_csv('loan_payments.csv')\n",
    "\n",
    "# Display the first few rows to inspect the data\n",
    "df.head()\n"
   ]
  },
  {
   "cell_type": "markdown",
   "metadata": {},
   "source": [
    "## Step 2: Inspect the Dataset\n",
    "\n",
    "We will inspect the columns and data types to identify which columns need to be transformed.\n"
   ]
  },
  {
   "cell_type": "code",
   "execution_count": null,
   "metadata": {},
   "outputs": [],
   "source": [
    "# Display basic information about the dataset, including column names and data types\n",
    "\n",
    "df.info()\n"
   ]
  },
  {
   "cell_type": "markdown",
   "metadata": {},
   "source": [
    "## Step 3: Data Cleaning and Transformation\n",
    "\n",
    "We have identified that certain columns in the dataset are not in the correct format:\n",
    "- Date columns need to be converted to a `datetime` format.\n",
    "- The `term` column needs to be cleaned by removing unnecessary text and converting to a numerical format.\n",
    "- Columns like `grade`, `sub_grade`, `home_ownership`, and `loan_status` should be converted to categorical data types.\n",
    "- We will handle missing values in relevant columns.\n",
    "\n",
    "We will now import and apply a `DataTransform` class that handles these transformations."
   ]
  },
  {
   "cell_type": "code",
   "execution_count": null,
   "metadata": {},
   "outputs": [],
   "source": [
    "# Import the DataTransform class from the data_transform.py file\n",
    "\n",
    "from d_transform import DataTransform\n"
   ]
  },
  {
   "cell_type": "markdown",
   "metadata": {},
   "source": [
    "## Step 4: Apply Data Transformations\n",
    "\n",
    "We'll now use the `DataTransform` class to:\n",
    "- Convert date columns (`issue_date`, `last_payment_date`, etc.) to a `datetime` format.\n",
    "- Clean the `term` column to retain only the numeric value.\n",
    "- Convert relevant columns to categorical data types.\n",
    "- Handle missing values in the appropriate columns.\n"
   ]
  },
  {
   "cell_type": "code",
   "execution_count": null,
   "metadata": {},
   "outputs": [],
   "source": [
    "# Initialize the DataTransform class with the DataFrame\n",
    "transformer = DataTransform(df)\n",
    "\n",
    "# Convert date columns to datetime\n",
    "date_columns = ['issue_date', 'last_payment_date', 'next_payment_date', 'last_credit_pull_date']\n",
    "transformer.convert_to_datetime(date_columns)\n",
    "\n",
    "# Clean the 'term' column\n",
    "transformer.clean_term_column()\n",
    "\n",
    "# Convert relevant columns to categorical data type\n",
    "categorical_columns = ['grade', 'sub_grade', 'home_ownership', 'verification_status', \n",
    "                       'loan_status', 'purpose', 'application_type']\n",
    "transformer.convert_to_categorical(categorical_columns)\n",
    "\n",
    "# Handle missing values in specified columns\n",
    "columns_with_missing_values = ['mths_since_last_delinq', 'mths_since_last_record', 'mths_since_last_major_derog']\n",
    "transformer.handle_missing_values(columns_with_missing_values)\n",
    "\n",
    "# View the updated DataFrame to ensure the transformations were applied correctly\n",
    "df.head()\n"
   ]
  },
  {
   "cell_type": "markdown",
   "metadata": {},
   "source": [
    "## Step 5: Summary of Transformations\n",
    "\n",
    "The data has now been cleaned and transformed:\n",
    "- Date columns have been converted to `datetime` format.\n",
    "- The `term` column has been cleaned and converted to a numerical type.\n",
    "- Categorical columns have been appropriately transformed to `category` data type.\n",
    "- Missing values have been handled in columns related to delinquency and records.\n",
    "\n",
    "The dataset is now ready for further analysis and exploration in the next steps."
   ]
  }
 ],
 "metadata": {
  "language_info": {
   "name": "python"
  }
 },
 "nbformat": 4,
 "nbformat_minor": 2
}
