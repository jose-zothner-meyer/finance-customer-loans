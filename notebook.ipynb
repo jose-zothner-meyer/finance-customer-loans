{
 "cells": [
  {
   "cell_type": "code",
   "execution_count": 1,
   "metadata": {},
   "outputs": [
    {
     "ename": "SyntaxError",
     "evalue": "invalid syntax (172041416.py, line 2)",
     "output_type": "error",
     "traceback": [
      "\u001b[0;36m  Cell \u001b[0;32mIn[1], line 2\u001b[0;36m\u001b[0m\n\u001b[0;31m    from 2datatrans import DataTransforme\u001b[0m\n\u001b[0m         ^\u001b[0m\n\u001b[0;31mSyntaxError\u001b[0m\u001b[0;31m:\u001b[0m invalid syntax\n"
     ]
    }
   ],
   "source": [
    "import pandas as pd\n",
    "from datatrans import DataTransforme\n",
    "from datafram import DataFrameInfoe\n",
    "\n",
    "# Load the dataset from the CSV file\n",
    "df = pd.read_csv('loan_payments.csv')\n",
    "\n",
    "# Instantiate the DataTransform class\n",
    "transformer = DataTransform(df)\n",
    "\n",
    "# Convert date columns\n",
    "date_columns = ['issue_date', 'last_payment_date', 'next_payment_date', 'last_credit_pull_date']\n",
    "transformer.convert_to_datetime(date_columns)\n",
    "\n",
    "# Convert categorical columns\n",
    "categorical_columns = [\n",
    "    'term', 'grade', 'sub_grade', 'employment_length', 'home_ownership', \n",
    "    'verification_status', 'loan_status', 'payment_plan', 'purpose', 'application_type'\n",
    "]\n",
    "transformer.convert_to_category(categorical_columns)\n",
    "\n",
    "# Clean 'term' and 'employment_length' columns\n",
    "transformer.clean_term_column('term')\n",
    "transformer.clean_employment_length('employment_length')\n",
    "\n",
    "# Instantiate the DataFrameInfo class\n",
    "df_info = DataFrameInfo(df)\n",
    "\n",
    "# Display the dataframe shape, null values, and statistics\n",
    "print(\"DataFrame Shape:\", df_info.get_shape())\n",
    "\n",
    "null_values = df_info.get_null_values()\n",
    "print(null_values)\n",
    "\n",
    "column_stats = df_info.get_column_stats()\n",
    "print(column_stats)\n",
    "\n",
    "distinct_values = df_info.count_distinct_values()\n",
    "print(distinct_values)\n"
   ]
  }
 ],
 "metadata": {
  "kernelspec": {
   "display_name": "finance_loans",
   "language": "python",
   "name": "python3"
  },
  "language_info": {
   "codemirror_mode": {
    "name": "ipython",
    "version": 3
   },
   "file_extension": ".py",
   "mimetype": "text/x-python",
   "name": "python",
   "nbconvert_exporter": "python",
   "pygments_lexer": "ipython3",
   "version": "3.8.20"
  }
 },
 "nbformat": 4,
 "nbformat_minor": 2
}
